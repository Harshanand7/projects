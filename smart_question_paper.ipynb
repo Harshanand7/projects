{
  "nbformat": 4,
  "nbformat_minor": 0,
  "metadata": {
    "colab": {
      "provenance": [],
      "toc_visible": true,
      "authorship_tag": "ABX9TyOksyTUyt4CU5lorf862Aj9",
      "include_colab_link": true
    },
    "kernelspec": {
      "name": "python3",
      "display_name": "Python 3"
    },
    "language_info": {
      "name": "python"
    }
  },
  "cells": [
    {
      "cell_type": "markdown",
      "metadata": {
        "id": "view-in-github",
        "colab_type": "text"
      },
      "source": [
        "<a href=\"https://colab.research.google.com/github/Harshanand7/projects/blob/main/smart_question_paper.ipynb\" target=\"_parent\"><img src=\"https://colab.research.google.com/assets/colab-badge.svg\" alt=\"Open In Colab\"/></a>"
      ]
    },
    {
      "cell_type": "markdown",
      "source": [
        "## Problem Statement 3 :- Smart question paper\n",
        "Consider the attached image. Use the OpenCV contour finding function\n",
        "to find the centroid and area of every contour in the image and print\n",
        "it. You can use Python or C++. Share the code as a public Github\n",
        "repository."
      ],
      "metadata": {
        "id": "wgTueLplyzmg"
      }
    },
    {
      "cell_type": "code",
      "execution_count": null,
      "metadata": {
        "id": "FGNOUXnPEYnB",
        "colab": {
          "base_uri": "https://localhost:8080/"
        },
        "outputId": "b62a7474-0b9a-4115-fe56-a1873960b195"
      },
      "outputs": [
        {
          "output_type": "stream",
          "name": "stdout",
          "text": [
            "Requirement already satisfied: gdown in /usr/local/lib/python3.10/dist-packages (5.1.0)\n",
            "Requirement already satisfied: beautifulsoup4 in /usr/local/lib/python3.10/dist-packages (from gdown) (4.12.3)\n",
            "Requirement already satisfied: filelock in /usr/local/lib/python3.10/dist-packages (from gdown) (3.14.0)\n",
            "Requirement already satisfied: requests[socks] in /usr/local/lib/python3.10/dist-packages (from gdown) (2.31.0)\n",
            "Requirement already satisfied: tqdm in /usr/local/lib/python3.10/dist-packages (from gdown) (4.66.4)\n",
            "Requirement already satisfied: soupsieve>1.2 in /usr/local/lib/python3.10/dist-packages (from beautifulsoup4->gdown) (2.5)\n",
            "Requirement already satisfied: charset-normalizer<4,>=2 in /usr/local/lib/python3.10/dist-packages (from requests[socks]->gdown) (3.3.2)\n",
            "Requirement already satisfied: idna<4,>=2.5 in /usr/local/lib/python3.10/dist-packages (from requests[socks]->gdown) (3.7)\n",
            "Requirement already satisfied: urllib3<3,>=1.21.1 in /usr/local/lib/python3.10/dist-packages (from requests[socks]->gdown) (2.0.7)\n",
            "Requirement already satisfied: certifi>=2017.4.17 in /usr/local/lib/python3.10/dist-packages (from requests[socks]->gdown) (2024.2.2)\n",
            "Requirement already satisfied: PySocks!=1.5.7,>=1.5.6 in /usr/local/lib/python3.10/dist-packages (from requests[socks]->gdown) (1.7.1)\n"
          ]
        }
      ],
      "source": [
        "!pip install gdown"
      ]
    },
    {
      "cell_type": "code",
      "source": [
        "!pip install opencv --python"
      ],
      "metadata": {
        "colab": {
          "base_uri": "https://localhost:8080/"
        },
        "id": "aWGN2B5tFiml",
        "outputId": "7fa687f7-2b7d-4f28-defe-f4a1b48c6dbb"
      },
      "execution_count": null,
      "outputs": [
        {
          "output_type": "stream",
          "name": "stdout",
          "text": [
            "\n",
            "Usage:   \n",
            "  pip3 install [options] <requirement specifier> [package-index-options] ...\n",
            "  pip3 install [options] -r <requirements file> [package-index-options] ...\n",
            "  pip3 install [options] [-e] <vcs project url> ...\n",
            "  pip3 install [options] [-e] <local project path> ...\n",
            "  pip3 install [options] <archive url/path> ...\n",
            "\n",
            "--python option requires 1 argument\n"
          ]
        }
      ]
    },
    {
      "cell_type": "code",
      "source": [
        "import cv2\n",
        "import numpy as np\n",
        "import pandas as pd\n",
        "import gdown\n",
        "from google.colab.patches import cv2_imshow\n",
        "import matplotlib.pyplot as plt"
      ],
      "metadata": {
        "id": "DKTNTXIWypws"
      },
      "execution_count": null,
      "outputs": []
    },
    {
      "cell_type": "code",
      "source": [
        "\n",
        "# below is the file id of the image which I had uploaded to my google drive\n",
        "file_id = '1XuIkUAOYWlvd2UAE9sZyKTWGswT77mKJ'\n",
        "\n",
        "# constructing the download URL\n",
        "url = f'https://drive.google.com/uc?id={file_id}'\n",
        "\n",
        "# specifying the output file name\n",
        "output_img = 'img.png'\n",
        "\n",
        "# downloading the  file from Google Drive\n",
        "gdown.download(url, output_img, quiet=False)\n",
        "\n"
      ],
      "metadata": {
        "colab": {
          "base_uri": "https://localhost:8080/",
          "height": 104
        },
        "id": "qi05-R4Lvo-U",
        "outputId": "3f1edc08-95de-4b71-f775-ad537a8e5810"
      },
      "execution_count": null,
      "outputs": [
        {
          "output_type": "stream",
          "name": "stderr",
          "text": [
            "Downloading...\n",
            "From: https://drive.google.com/uc?id=1XuIkUAOYWlvd2UAE9sZyKTWGswT77mKJ\n",
            "To: /content/img.png\n",
            "100%|██████████| 35.7k/35.7k [00:00<00:00, 42.0MB/s]\n"
          ]
        },
        {
          "output_type": "execute_result",
          "data": {
            "text/plain": [
              "'img.png'"
            ],
            "application/vnd.google.colaboratory.intrinsic+json": {
              "type": "string"
            }
          },
          "metadata": {},
          "execution_count": 4
        }
      ]
    },
    {
      "cell_type": "code",
      "source": [
        "# reading  the image\n",
        "# displaying the image just to check whether I have imported the correct file.\n",
        "image = cv2.imread(output_img, cv2.IMREAD_GRAYSCALE)\n",
        "print(\"Original image\")\n",
        "cv2_imshow(image)"
      ],
      "metadata": {
        "colab": {
          "base_uri": "https://localhost:8080/",
          "height": 1000
        },
        "id": "DFGiVziZRyUP",
        "outputId": "cef836b6-6c12-4434-f1aa-2e729fbe37b0"
      },
      "execution_count": null,
      "outputs": [
        {
          "output_type": "stream",
          "name": "stdout",
          "text": [
            "Original image\n"
          ]
        },
        {
          "output_type": "display_data",
          "data": {
            "text/plain": [
              "<PIL.Image.Image image mode=L size=794x1123>"
            ],
            "image/png": "[encoded data removed]"
          },
          "metadata": {}
        }
      ]
    },
    {
      "cell_type": "code",
      "source": [
        "# the original image is first converted to binary image keeping a threshold\n",
        "# pixel value of 127 then the image is inveretd to ease out my controur detection\n",
        "\n",
        "_, thresh = cv2.threshold(image, 127, 255, cv2.THRESH_BINARY_INV)\n",
        "\n",
        "#dispalying the inverted thresholded binary image\n",
        "print(\"Inverted image\")\n",
        "cv2_imshow(thresh)\n",
        "\n",
        "# finding contours of the 'thresh' image\n",
        "contours, _ = cv2.findContours(thresh, cv2.RETR_EXTERNAL, cv2.CHAIN_APPROX_SIMPLE)\n",
        "\n",
        "# creating a copy of the image to draw the contours and centroids\n",
        "output_image = cv2.cvtColor(image, cv2.COLOR_GRAY2BGR)\n",
        "\n",
        "\n"
      ],
      "metadata": {
        "id": "zT4IiBwsmucw",
        "colab": {
          "base_uri": "https://localhost:8080/",
          "height": 1000
        },
        "outputId": "f141250a-3cf6-407c-c43d-2d41d8a2847f"
      },
      "execution_count": null,
      "outputs": [
        {
          "output_type": "stream",
          "name": "stdout",
          "text": [
            "Inverted image\n"
          ]
        },
        {
          "output_type": "display_data",
          "data": {
            "text/plain": [
              "<PIL.Image.Image image mode=L size=794x1123>"
            ],
            "image/png": "[encoded data removed]"
          },
          "metadata": {}
        }
      ]
    },
    {
      "cell_type": "code",
      "source": [
        "# iterating over each contour to find the centroid and area\n",
        "for i, contour in enumerate(contours):\n",
        "    # calculateing the area of the contour\n",
        "    area = cv2.contourArea(contour)\n",
        "\n",
        "    # the centroid has been calculated using moments of the contour\n",
        "\n",
        "    # calculating the moments for each contour\n",
        "    M = cv2.moments(contour)\n",
        "\n",
        "    if M[\"m00\"] != 0:\n",
        "        # calculating the centroid\n",
        "        cX = int(M[\"m10\"] / M[\"m00\"])\n",
        "        cY = int(M[\"m01\"] / M[\"m00\"])\n",
        "    else:\n",
        "        cX, cY = 0, 0\n",
        "\n",
        "    # drawing the contour and centroid on the output image\n",
        "    cv2.drawContours(output_image, [contour], -1, (0, 255, 0), 2)\n",
        "    cv2.circle(output_image, (cX, cY), 5, (0, 0, 255), -1)\n",
        "\n",
        "    # the indexing has been done to the contours to identify their centroids and area the\n",
        "    # output has the contour number with the respective centroid and area.\n",
        "    cv2.putText(output_image, f\"{i+1}\", (cX - 10, cY - 10), cv2.FONT_HERSHEY_SIMPLEX, 0.5, (255, 0, 0), 2)\n",
        "\n",
        "    # printing the centroid and area of the respecryive contrours with their index number.\n",
        "    print(f\"Contour {i+1} : Centroid: ({cX}, {cY}), Area: {area}\")\n",
        "\n",
        "# displaying the output image\n",
        "\n",
        "\n",
        "cv2_imshow(output_image)\n"
      ],
      "metadata": {
        "colab": {
          "base_uri": "https://localhost:8080/",
          "height": 1000
        },
        "id": "Cqv0ngGXTUZK",
        "outputId": "34784121-863f-4876-ad00-7ceb8fb95273"
      },
      "execution_count": null,
      "outputs": [
        {
          "output_type": "stream",
          "name": "stdout",
          "text": [
            "Contour 1 : Centroid: (249, 1050), Area: 4432.0\n",
            "Contour 2 : Centroid: (603, 1023), Area: 10915.0\n",
            "Contour 3 : Centroid: (389, 994), Area: 9146.0\n",
            "Contour 4 : Centroid: (406, 897), Area: 2141.0\n",
            "Contour 5 : Centroid: (194, 883), Area: 14602.0\n",
            "Contour 6 : Centroid: (598, 858), Area: 10906.0\n",
            "Contour 7 : Centroid: (107, 779), Area: 4433.0\n",
            "Contour 8 : Centroid: (356, 735), Area: 2138.0\n",
            "Contour 9 : Centroid: (290, 734), Area: 4427.0\n",
            "Contour 10 : Centroid: (663, 733), Area: 4429.0\n",
            "Contour 11 : Centroid: (477, 757), Area: 8260.5\n",
            "Contour 12 : Centroid: (555, 656), Area: 4431.5\n",
            "Contour 13 : Centroid: (202, 647), Area: 14599.5\n",
            "Contour 14 : Centroid: (427, 595), Area: 8260.5\n",
            "Contour 15 : Centroid: (346, 521), Area: 4429.5\n",
            "Contour 16 : Centroid: (427, 445), Area: 6121.5\n",
            "Contour 17 : Centroid: (143, 443), Area: 4432.0\n",
            "Contour 18 : Centroid: (592, 439), Area: 8962.0\n",
            "Contour 19 : Centroid: (393, 359), Area: 4431.0\n",
            "Contour 20 : Centroid: (161, 355), Area: 14599.5\n",
            "Contour 21 : Centroid: (615, 342), Area: 9083.5\n",
            "Contour 22 : Centroid: (427, 240), Area: 4433.5\n",
            "Contour 23 : Centroid: (237, 237), Area: 4430.5\n",
            "Contour 24 : Centroid: (623, 230), Area: 8962.0\n",
            "Contour 25 : Centroid: (488, 154), Area: 4423.0\n",
            "Contour 26 : Centroid: (169, 118), Area: 14601.0\n"
          ]
        },
        {
          "output_type": "display_data",
          "data": {
            "text/plain": [
              "<PIL.Image.Image image mode=RGB size=794x1123>"
            ],
            "image/png": "[encoded data removed]"
          },
          "metadata": {}
        }
      ]
    },
    {
      "cell_type": "code",
      "source": [],
      "metadata": {
        "id": "j9VhXjnj6njo"
      },
      "execution_count": null,
      "outputs": []
    }
  ]
}